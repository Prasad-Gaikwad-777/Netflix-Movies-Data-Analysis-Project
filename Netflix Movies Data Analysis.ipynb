{
 "cells": [
  {
   "cell_type": "markdown",
   "id": "4c65e9e8-f4b6-49f2-b319-212cfd36635a",
   "metadata": {},
   "source": [
    "# Netflix Movies Data Analysis Project : "
   ]
  },
  {
   "cell_type": "code",
   "execution_count": null,
   "id": "6a4c3118-746e-4157-948e-d0f9d6f034ad",
   "metadata": {},
   "outputs": [],
   "source": []
  },
  {
   "cell_type": "code",
   "execution_count": null,
   "id": "758eca40-6904-44de-ad10-2221821c50e4",
   "metadata": {},
   "outputs": [],
   "source": []
  },
  {
   "cell_type": "code",
   "execution_count": 1,
   "id": "68cfe644-510f-4ad3-b49c-7154cfa712d0",
   "metadata": {},
   "outputs": [],
   "source": [
    "# importing Libraries\n",
    "\n",
    "import pandas as pd\n",
    "import numpy as np\n",
    "import matplotlib.pyplot as plt\n",
    "import seaborn as sns\n",
    "import sklearn\n",
    "import datetime"
   ]
  },
  {
   "cell_type": "code",
   "execution_count": null,
   "id": "87ffdc00-13af-40f3-8171-a6ef8708d636",
   "metadata": {},
   "outputs": [],
   "source": []
  },
  {
   "cell_type": "code",
   "execution_count": 5,
   "id": "e47bba98-7baf-40ca-995e-eb36f249d394",
   "metadata": {},
   "outputs": [
    {
     "data": {
      "text/html": [
       "<div>\n",
       "<style scoped>\n",
       "    .dataframe tbody tr th:only-of-type {\n",
       "        vertical-align: middle;\n",
       "    }\n",
       "\n",
       "    .dataframe tbody tr th {\n",
       "        vertical-align: top;\n",
       "    }\n",
       "\n",
       "    .dataframe thead th {\n",
       "        text-align: right;\n",
       "    }\n",
       "</style>\n",
       "<table border=\"1\" class=\"dataframe\">\n",
       "  <thead>\n",
       "    <tr style=\"text-align: right;\">\n",
       "      <th></th>\n",
       "      <th>Release_Date</th>\n",
       "      <th>Title</th>\n",
       "      <th>Overview</th>\n",
       "      <th>Popularity</th>\n",
       "      <th>Vote_Count</th>\n",
       "      <th>Vote_Average</th>\n",
       "      <th>Original_Language</th>\n",
       "      <th>Genre</th>\n",
       "      <th>Poster_Url</th>\n",
       "    </tr>\n",
       "  </thead>\n",
       "  <tbody>\n",
       "    <tr>\n",
       "      <th>0</th>\n",
       "      <td>2021-12-15</td>\n",
       "      <td>Spider-Man: No Way Home</td>\n",
       "      <td>Peter Parker is unmasked and no longer able to...</td>\n",
       "      <td>5083.954</td>\n",
       "      <td>8940</td>\n",
       "      <td>8.3</td>\n",
       "      <td>en</td>\n",
       "      <td>Action, Adventure, Science Fiction</td>\n",
       "      <td>https://image.tmdb.org/t/p/original/1g0dhYtq4i...</td>\n",
       "    </tr>\n",
       "    <tr>\n",
       "      <th>1</th>\n",
       "      <td>2022-03-01</td>\n",
       "      <td>The Batman</td>\n",
       "      <td>In his second year of fighting crime, Batman u...</td>\n",
       "      <td>3827.658</td>\n",
       "      <td>1151</td>\n",
       "      <td>8.1</td>\n",
       "      <td>en</td>\n",
       "      <td>Crime, Mystery, Thriller</td>\n",
       "      <td>https://image.tmdb.org/t/p/original/74xTEgt7R3...</td>\n",
       "    </tr>\n",
       "    <tr>\n",
       "      <th>2</th>\n",
       "      <td>2022-02-25</td>\n",
       "      <td>No Exit</td>\n",
       "      <td>Stranded at a rest stop in the mountains durin...</td>\n",
       "      <td>2618.087</td>\n",
       "      <td>122</td>\n",
       "      <td>6.3</td>\n",
       "      <td>en</td>\n",
       "      <td>Thriller</td>\n",
       "      <td>https://image.tmdb.org/t/p/original/vDHsLnOWKl...</td>\n",
       "    </tr>\n",
       "    <tr>\n",
       "      <th>3</th>\n",
       "      <td>2021-11-24</td>\n",
       "      <td>Encanto</td>\n",
       "      <td>The tale of an extraordinary family, the Madri...</td>\n",
       "      <td>2402.201</td>\n",
       "      <td>5076</td>\n",
       "      <td>7.7</td>\n",
       "      <td>en</td>\n",
       "      <td>Animation, Comedy, Family, Fantasy</td>\n",
       "      <td>https://image.tmdb.org/t/p/original/4j0PNHkMr5...</td>\n",
       "    </tr>\n",
       "    <tr>\n",
       "      <th>4</th>\n",
       "      <td>2021-12-22</td>\n",
       "      <td>The King's Man</td>\n",
       "      <td>As a collection of history's worst tyrants and...</td>\n",
       "      <td>1895.511</td>\n",
       "      <td>1793</td>\n",
       "      <td>7.0</td>\n",
       "      <td>en</td>\n",
       "      <td>Action, Adventure, Thriller, War</td>\n",
       "      <td>https://image.tmdb.org/t/p/original/aq4Pwv5Xeu...</td>\n",
       "    </tr>\n",
       "  </tbody>\n",
       "</table>\n",
       "</div>"
      ],
      "text/plain": [
       "  Release_Date                    Title  \\\n",
       "0   2021-12-15  Spider-Man: No Way Home   \n",
       "1   2022-03-01               The Batman   \n",
       "2   2022-02-25                  No Exit   \n",
       "3   2021-11-24                  Encanto   \n",
       "4   2021-12-22           The King's Man   \n",
       "\n",
       "                                            Overview  Popularity  Vote_Count  \\\n",
       "0  Peter Parker is unmasked and no longer able to...    5083.954        8940   \n",
       "1  In his second year of fighting crime, Batman u...    3827.658        1151   \n",
       "2  Stranded at a rest stop in the mountains durin...    2618.087         122   \n",
       "3  The tale of an extraordinary family, the Madri...    2402.201        5076   \n",
       "4  As a collection of history's worst tyrants and...    1895.511        1793   \n",
       "\n",
       "   Vote_Average Original_Language                               Genre  \\\n",
       "0           8.3                en  Action, Adventure, Science Fiction   \n",
       "1           8.1                en            Crime, Mystery, Thriller   \n",
       "2           6.3                en                            Thriller   \n",
       "3           7.7                en  Animation, Comedy, Family, Fantasy   \n",
       "4           7.0                en    Action, Adventure, Thriller, War   \n",
       "\n",
       "                                          Poster_Url  \n",
       "0  https://image.tmdb.org/t/p/original/1g0dhYtq4i...  \n",
       "1  https://image.tmdb.org/t/p/original/74xTEgt7R3...  \n",
       "2  https://image.tmdb.org/t/p/original/vDHsLnOWKl...  \n",
       "3  https://image.tmdb.org/t/p/original/4j0PNHkMr5...  \n",
       "4  https://image.tmdb.org/t/p/original/aq4Pwv5Xeu...  "
      ]
     },
     "execution_count": 5,
     "metadata": {},
     "output_type": "execute_result"
    }
   ],
   "source": [
    "# Loading the Dataset to Jupyter Notebook\n",
    "\n",
    "df = pd.read_csv(\"mymoviedb.csv\", lineterminator = '\\n')\n",
    "df.head(5)"
   ]
  },
  {
   "cell_type": "code",
   "execution_count": 6,
   "id": "5fa80e4a-aaef-4daf-b530-7801dd82178d",
   "metadata": {},
   "outputs": [
    {
     "name": "stdout",
     "output_type": "stream",
     "text": [
      "<class 'pandas.core.frame.DataFrame'>\n",
      "RangeIndex: 9827 entries, 0 to 9826\n",
      "Data columns (total 9 columns):\n",
      " #   Column             Non-Null Count  Dtype  \n",
      "---  ------             --------------  -----  \n",
      " 0   Release_Date       9827 non-null   object \n",
      " 1   Title              9827 non-null   object \n",
      " 2   Overview           9827 non-null   object \n",
      " 3   Popularity         9827 non-null   float64\n",
      " 4   Vote_Count         9827 non-null   int64  \n",
      " 5   Vote_Average       9827 non-null   float64\n",
      " 6   Original_Language  9827 non-null   object \n",
      " 7   Genre              9827 non-null   object \n",
      " 8   Poster_Url         9827 non-null   object \n",
      "dtypes: float64(2), int64(1), object(6)\n",
      "memory usage: 691.1+ KB\n"
     ]
    }
   ],
   "source": [
    "df.info()"
   ]
  },
  {
   "cell_type": "code",
   "execution_count": 7,
   "id": "3bb88bb8-6e10-48ac-867c-a45e2e75a9e2",
   "metadata": {},
   "outputs": [
    {
     "data": {
      "text/plain": [
       "0"
      ]
     },
     "execution_count": 7,
     "metadata": {},
     "output_type": "execute_result"
    }
   ],
   "source": [
    "df.duplicated().sum()"
   ]
  },
  {
   "cell_type": "code",
   "execution_count": 8,
   "id": "fe972fd4-3dfd-4cf0-9e6a-4e8c50946f47",
   "metadata": {},
   "outputs": [
    {
     "data": {
      "text/html": [
       "<div>\n",
       "<style scoped>\n",
       "    .dataframe tbody tr th:only-of-type {\n",
       "        vertical-align: middle;\n",
       "    }\n",
       "\n",
       "    .dataframe tbody tr th {\n",
       "        vertical-align: top;\n",
       "    }\n",
       "\n",
       "    .dataframe thead th {\n",
       "        text-align: right;\n",
       "    }\n",
       "</style>\n",
       "<table border=\"1\" class=\"dataframe\">\n",
       "  <thead>\n",
       "    <tr style=\"text-align: right;\">\n",
       "      <th></th>\n",
       "      <th>Popularity</th>\n",
       "      <th>Vote_Count</th>\n",
       "      <th>Vote_Average</th>\n",
       "    </tr>\n",
       "  </thead>\n",
       "  <tbody>\n",
       "    <tr>\n",
       "      <th>count</th>\n",
       "      <td>9827.000000</td>\n",
       "      <td>9827.000000</td>\n",
       "      <td>9827.000000</td>\n",
       "    </tr>\n",
       "    <tr>\n",
       "      <th>mean</th>\n",
       "      <td>40.326088</td>\n",
       "      <td>1392.805536</td>\n",
       "      <td>6.439534</td>\n",
       "    </tr>\n",
       "    <tr>\n",
       "      <th>std</th>\n",
       "      <td>108.873998</td>\n",
       "      <td>2611.206907</td>\n",
       "      <td>1.129759</td>\n",
       "    </tr>\n",
       "    <tr>\n",
       "      <th>min</th>\n",
       "      <td>13.354000</td>\n",
       "      <td>0.000000</td>\n",
       "      <td>0.000000</td>\n",
       "    </tr>\n",
       "    <tr>\n",
       "      <th>25%</th>\n",
       "      <td>16.128500</td>\n",
       "      <td>146.000000</td>\n",
       "      <td>5.900000</td>\n",
       "    </tr>\n",
       "    <tr>\n",
       "      <th>50%</th>\n",
       "      <td>21.199000</td>\n",
       "      <td>444.000000</td>\n",
       "      <td>6.500000</td>\n",
       "    </tr>\n",
       "    <tr>\n",
       "      <th>75%</th>\n",
       "      <td>35.191500</td>\n",
       "      <td>1376.000000</td>\n",
       "      <td>7.100000</td>\n",
       "    </tr>\n",
       "    <tr>\n",
       "      <th>max</th>\n",
       "      <td>5083.954000</td>\n",
       "      <td>31077.000000</td>\n",
       "      <td>10.000000</td>\n",
       "    </tr>\n",
       "  </tbody>\n",
       "</table>\n",
       "</div>"
      ],
      "text/plain": [
       "        Popularity    Vote_Count  Vote_Average\n",
       "count  9827.000000   9827.000000   9827.000000\n",
       "mean     40.326088   1392.805536      6.439534\n",
       "std     108.873998   2611.206907      1.129759\n",
       "min      13.354000      0.000000      0.000000\n",
       "25%      16.128500    146.000000      5.900000\n",
       "50%      21.199000    444.000000      6.500000\n",
       "75%      35.191500   1376.000000      7.100000\n",
       "max    5083.954000  31077.000000     10.000000"
      ]
     },
     "execution_count": 8,
     "metadata": {},
     "output_type": "execute_result"
    }
   ],
   "source": [
    "df.describe()"
   ]
  },
  {
   "cell_type": "code",
   "execution_count": null,
   "id": "fda00781-1500-4ef4-84d9-3d960cb789d4",
   "metadata": {},
   "outputs": [],
   "source": []
  },
  {
   "cell_type": "code",
   "execution_count": 9,
   "id": "adc9ee8e-14c8-42dd-abcd-40fa1c5944b1",
   "metadata": {},
   "outputs": [],
   "source": [
    "# summary:\n",
    "\n",
    "# We have around 9287 records of movies and their info .\n",
    "# There is no any NAN or Null values in the dataset\n",
    "# Dataset doesn't have any Duplicates\n",
    "\n",
    "\n",
    "# we need to change the dtype of Date from object to datetime\n",
    "# we need to separate the Years from the Date column\n",
    "# we need to drop overview, poster Url, and original Language as it does not have relevant values.\n",
    "# Changing the names of all columns into lowercase\n",
    "\n"
   ]
  },
  {
   "cell_type": "code",
   "execution_count": null,
   "id": "a292db85-c8e8-4790-bf30-313ce78c1d5a",
   "metadata": {},
   "outputs": [],
   "source": []
  },
  {
   "cell_type": "code",
   "execution_count": 10,
   "id": "ddb377bb-61d5-418e-b77e-9d96062d05bd",
   "metadata": {},
   "outputs": [
    {
     "name": "stdout",
     "output_type": "stream",
     "text": [
      "<class 'pandas.core.series.Series'>\n",
      "RangeIndex: 9827 entries, 0 to 9826\n",
      "Series name: Release_Date\n",
      "Non-Null Count  Dtype         \n",
      "--------------  -----         \n",
      "9827 non-null   datetime64[ns]\n",
      "dtypes: datetime64[ns](1)\n",
      "memory usage: 76.9 KB\n",
      "None\n"
     ]
    }
   ],
   "source": [
    "# Changing dtype to Datetime\n",
    "\n",
    "df[\"Release_Date\"] = pd.to_datetime(df[\"Release_Date\"])\n",
    "print(df[\"Release_Date\"].info())"
   ]
  },
  {
   "cell_type": "code",
   "execution_count": 12,
   "id": "4266acf8-a58a-4f49-886a-d4ce7999b8ab",
   "metadata": {},
   "outputs": [
    {
     "data": {
      "text/html": [
       "<div>\n",
       "<style scoped>\n",
       "    .dataframe tbody tr th:only-of-type {\n",
       "        vertical-align: middle;\n",
       "    }\n",
       "\n",
       "    .dataframe tbody tr th {\n",
       "        vertical-align: top;\n",
       "    }\n",
       "\n",
       "    .dataframe thead th {\n",
       "        text-align: right;\n",
       "    }\n",
       "</style>\n",
       "<table border=\"1\" class=\"dataframe\">\n",
       "  <thead>\n",
       "    <tr style=\"text-align: right;\">\n",
       "      <th></th>\n",
       "      <th>Release_Date</th>\n",
       "      <th>Title</th>\n",
       "      <th>Overview</th>\n",
       "      <th>Popularity</th>\n",
       "      <th>Vote_Count</th>\n",
       "      <th>Vote_Average</th>\n",
       "      <th>Original_Language</th>\n",
       "      <th>Genre</th>\n",
       "      <th>Poster_Url</th>\n",
       "      <th>Release_year</th>\n",
       "    </tr>\n",
       "  </thead>\n",
       "  <tbody>\n",
       "    <tr>\n",
       "      <th>0</th>\n",
       "      <td>2021-12-15</td>\n",
       "      <td>Spider-Man: No Way Home</td>\n",
       "      <td>Peter Parker is unmasked and no longer able to...</td>\n",
       "      <td>5083.954</td>\n",
       "      <td>8940</td>\n",
       "      <td>8.3</td>\n",
       "      <td>en</td>\n",
       "      <td>Action, Adventure, Science Fiction</td>\n",
       "      <td>https://image.tmdb.org/t/p/original/1g0dhYtq4i...</td>\n",
       "      <td>2021</td>\n",
       "    </tr>\n",
       "    <tr>\n",
       "      <th>1</th>\n",
       "      <td>2022-03-01</td>\n",
       "      <td>The Batman</td>\n",
       "      <td>In his second year of fighting crime, Batman u...</td>\n",
       "      <td>3827.658</td>\n",
       "      <td>1151</td>\n",
       "      <td>8.1</td>\n",
       "      <td>en</td>\n",
       "      <td>Crime, Mystery, Thriller</td>\n",
       "      <td>https://image.tmdb.org/t/p/original/74xTEgt7R3...</td>\n",
       "      <td>2022</td>\n",
       "    </tr>\n",
       "  </tbody>\n",
       "</table>\n",
       "</div>"
      ],
      "text/plain": [
       "  Release_Date                    Title  \\\n",
       "0   2021-12-15  Spider-Man: No Way Home   \n",
       "1   2022-03-01               The Batman   \n",
       "\n",
       "                                            Overview  Popularity  Vote_Count  \\\n",
       "0  Peter Parker is unmasked and no longer able to...    5083.954        8940   \n",
       "1  In his second year of fighting crime, Batman u...    3827.658        1151   \n",
       "\n",
       "   Vote_Average Original_Language                               Genre  \\\n",
       "0           8.3                en  Action, Adventure, Science Fiction   \n",
       "1           8.1                en            Crime, Mystery, Thriller   \n",
       "\n",
       "                                          Poster_Url  Release_year  \n",
       "0  https://image.tmdb.org/t/p/original/1g0dhYtq4i...          2021  \n",
       "1  https://image.tmdb.org/t/p/original/74xTEgt7R3...          2022  "
      ]
     },
     "execution_count": 12,
     "metadata": {},
     "output_type": "execute_result"
    }
   ],
   "source": [
    "# Creating New column with year\n",
    "\n",
    "df[\"Release_year\"] = df[\"Release_Date\"].dt.year\n",
    "df.head(2)"
   ]
  },
  {
   "cell_type": "code",
   "execution_count": 13,
   "id": "083dda06-d715-421b-ae7e-65121848bd01",
   "metadata": {},
   "outputs": [
    {
     "data": {
      "text/plain": [
       "Index(['Release_Date', 'Title', 'Overview', 'Popularity', 'Vote_Count',\n",
       "       'Vote_Average', 'Original_Language', 'Genre', 'Poster_Url',\n",
       "       'Release_year'],\n",
       "      dtype='object')"
      ]
     },
     "execution_count": 13,
     "metadata": {},
     "output_type": "execute_result"
    }
   ],
   "source": [
    "df.columns"
   ]
  },
  {
   "cell_type": "code",
   "execution_count": 15,
   "id": "fea7e3b7-3eda-47b0-9db9-9393f63770a9",
   "metadata": {},
   "outputs": [
    {
     "data": {
      "text/html": [
       "<div>\n",
       "<style scoped>\n",
       "    .dataframe tbody tr th:only-of-type {\n",
       "        vertical-align: middle;\n",
       "    }\n",
       "\n",
       "    .dataframe tbody tr th {\n",
       "        vertical-align: top;\n",
       "    }\n",
       "\n",
       "    .dataframe thead th {\n",
       "        text-align: right;\n",
       "    }\n",
       "</style>\n",
       "<table border=\"1\" class=\"dataframe\">\n",
       "  <thead>\n",
       "    <tr style=\"text-align: right;\">\n",
       "      <th></th>\n",
       "      <th>Release_Date</th>\n",
       "      <th>Title</th>\n",
       "      <th>Popularity</th>\n",
       "      <th>Vote_Count</th>\n",
       "      <th>Vote_Average</th>\n",
       "      <th>Genre</th>\n",
       "      <th>Release_year</th>\n",
       "    </tr>\n",
       "  </thead>\n",
       "  <tbody>\n",
       "    <tr>\n",
       "      <th>0</th>\n",
       "      <td>2021-12-15</td>\n",
       "      <td>Spider-Man: No Way Home</td>\n",
       "      <td>5083.954</td>\n",
       "      <td>8940</td>\n",
       "      <td>8.3</td>\n",
       "      <td>Action, Adventure, Science Fiction</td>\n",
       "      <td>2021</td>\n",
       "    </tr>\n",
       "    <tr>\n",
       "      <th>1</th>\n",
       "      <td>2022-03-01</td>\n",
       "      <td>The Batman</td>\n",
       "      <td>3827.658</td>\n",
       "      <td>1151</td>\n",
       "      <td>8.1</td>\n",
       "      <td>Crime, Mystery, Thriller</td>\n",
       "      <td>2022</td>\n",
       "    </tr>\n",
       "  </tbody>\n",
       "</table>\n",
       "</div>"
      ],
      "text/plain": [
       "  Release_Date                    Title  Popularity  Vote_Count  Vote_Average  \\\n",
       "0   2021-12-15  Spider-Man: No Way Home    5083.954        8940           8.3   \n",
       "1   2022-03-01               The Batman    3827.658        1151           8.1   \n",
       "\n",
       "                                Genre  Release_year  \n",
       "0  Action, Adventure, Science Fiction          2021  \n",
       "1            Crime, Mystery, Thriller          2022  "
      ]
     },
     "execution_count": 15,
     "metadata": {},
     "output_type": "execute_result"
    }
   ],
   "source": [
    "# Dropping Overview, Original_language, Poster_url\n",
    "\n",
    "df.drop([\"Overview\", \"Original_Language\", \"Poster_Url\"], axis = 1, inplace = True)\n",
    "df.head(2)"
   ]
  },
  {
   "cell_type": "code",
   "execution_count": null,
   "id": "4ab732ed-737e-44e6-8fb5-951df8836f8a",
   "metadata": {},
   "outputs": [],
   "source": [
    " "
   ]
  },
  {
   "cell_type": "code",
   "execution_count": 19,
   "id": "fe90049b-7dc0-4c14-8397-5157bef7fe7d",
   "metadata": {},
   "outputs": [
    {
     "data": {
      "text/html": [
       "<div>\n",
       "<style scoped>\n",
       "    .dataframe tbody tr th:only-of-type {\n",
       "        vertical-align: middle;\n",
       "    }\n",
       "\n",
       "    .dataframe tbody tr th {\n",
       "        vertical-align: top;\n",
       "    }\n",
       "\n",
       "    .dataframe thead th {\n",
       "        text-align: right;\n",
       "    }\n",
       "</style>\n",
       "<table border=\"1\" class=\"dataframe\">\n",
       "  <thead>\n",
       "    <tr style=\"text-align: right;\">\n",
       "      <th></th>\n",
       "      <th>release_date</th>\n",
       "      <th>title</th>\n",
       "      <th>popularity</th>\n",
       "      <th>vote_count</th>\n",
       "      <th>vote_average</th>\n",
       "      <th>genre</th>\n",
       "      <th>release_year</th>\n",
       "    </tr>\n",
       "  </thead>\n",
       "  <tbody>\n",
       "    <tr>\n",
       "      <th>0</th>\n",
       "      <td>2021-12-15</td>\n",
       "      <td>Spider-Man: No Way Home</td>\n",
       "      <td>5083.954</td>\n",
       "      <td>8940</td>\n",
       "      <td>8.3</td>\n",
       "      <td>Action, Adventure, Science Fiction</td>\n",
       "      <td>2021</td>\n",
       "    </tr>\n",
       "    <tr>\n",
       "      <th>1</th>\n",
       "      <td>2022-03-01</td>\n",
       "      <td>The Batman</td>\n",
       "      <td>3827.658</td>\n",
       "      <td>1151</td>\n",
       "      <td>8.1</td>\n",
       "      <td>Crime, Mystery, Thriller</td>\n",
       "      <td>2022</td>\n",
       "    </tr>\n",
       "    <tr>\n",
       "      <th>2</th>\n",
       "      <td>2022-02-25</td>\n",
       "      <td>No Exit</td>\n",
       "      <td>2618.087</td>\n",
       "      <td>122</td>\n",
       "      <td>6.3</td>\n",
       "      <td>Thriller</td>\n",
       "      <td>2022</td>\n",
       "    </tr>\n",
       "    <tr>\n",
       "      <th>3</th>\n",
       "      <td>2021-11-24</td>\n",
       "      <td>Encanto</td>\n",
       "      <td>2402.201</td>\n",
       "      <td>5076</td>\n",
       "      <td>7.7</td>\n",
       "      <td>Animation, Comedy, Family, Fantasy</td>\n",
       "      <td>2021</td>\n",
       "    </tr>\n",
       "    <tr>\n",
       "      <th>4</th>\n",
       "      <td>2021-12-22</td>\n",
       "      <td>The King's Man</td>\n",
       "      <td>1895.511</td>\n",
       "      <td>1793</td>\n",
       "      <td>7.0</td>\n",
       "      <td>Action, Adventure, Thriller, War</td>\n",
       "      <td>2021</td>\n",
       "    </tr>\n",
       "    <tr>\n",
       "      <th>5</th>\n",
       "      <td>2022-01-07</td>\n",
       "      <td>The Commando</td>\n",
       "      <td>1750.484</td>\n",
       "      <td>33</td>\n",
       "      <td>6.6</td>\n",
       "      <td>Action, Crime, Thriller</td>\n",
       "      <td>2022</td>\n",
       "    </tr>\n",
       "    <tr>\n",
       "      <th>6</th>\n",
       "      <td>2022-01-12</td>\n",
       "      <td>Scream</td>\n",
       "      <td>1675.161</td>\n",
       "      <td>821</td>\n",
       "      <td>6.8</td>\n",
       "      <td>Horror, Mystery, Thriller</td>\n",
       "      <td>2022</td>\n",
       "    </tr>\n",
       "    <tr>\n",
       "      <th>7</th>\n",
       "      <td>2022-02-10</td>\n",
       "      <td>Kimi</td>\n",
       "      <td>1601.782</td>\n",
       "      <td>206</td>\n",
       "      <td>6.3</td>\n",
       "      <td>Thriller</td>\n",
       "      <td>2022</td>\n",
       "    </tr>\n",
       "    <tr>\n",
       "      <th>8</th>\n",
       "      <td>2022-02-17</td>\n",
       "      <td>Fistful of Vengeance</td>\n",
       "      <td>1594.013</td>\n",
       "      <td>114</td>\n",
       "      <td>5.3</td>\n",
       "      <td>Action, Crime, Fantasy</td>\n",
       "      <td>2022</td>\n",
       "    </tr>\n",
       "    <tr>\n",
       "      <th>9</th>\n",
       "      <td>2021-11-03</td>\n",
       "      <td>Eternals</td>\n",
       "      <td>1537.406</td>\n",
       "      <td>4726</td>\n",
       "      <td>7.2</td>\n",
       "      <td>Science Fiction</td>\n",
       "      <td>2021</td>\n",
       "    </tr>\n",
       "  </tbody>\n",
       "</table>\n",
       "</div>"
      ],
      "text/plain": [
       "  release_date                    title  popularity  vote_count  vote_average  \\\n",
       "0   2021-12-15  Spider-Man: No Way Home    5083.954        8940           8.3   \n",
       "1   2022-03-01               The Batman    3827.658        1151           8.1   \n",
       "2   2022-02-25                  No Exit    2618.087         122           6.3   \n",
       "3   2021-11-24                  Encanto    2402.201        5076           7.7   \n",
       "4   2021-12-22           The King's Man    1895.511        1793           7.0   \n",
       "5   2022-01-07             The Commando    1750.484          33           6.6   \n",
       "6   2022-01-12                   Scream    1675.161         821           6.8   \n",
       "7   2022-02-10                     Kimi    1601.782         206           6.3   \n",
       "8   2022-02-17     Fistful of Vengeance    1594.013         114           5.3   \n",
       "9   2021-11-03                 Eternals    1537.406        4726           7.2   \n",
       "\n",
       "                                genre  release_year  \n",
       "0  Action, Adventure, Science Fiction          2021  \n",
       "1            Crime, Mystery, Thriller          2022  \n",
       "2                            Thriller          2022  \n",
       "3  Animation, Comedy, Family, Fantasy          2021  \n",
       "4    Action, Adventure, Thriller, War          2021  \n",
       "5             Action, Crime, Thriller          2022  \n",
       "6           Horror, Mystery, Thriller          2022  \n",
       "7                            Thriller          2022  \n",
       "8              Action, Crime, Fantasy          2022  \n",
       "9                     Science Fiction          2021  "
      ]
     },
     "execution_count": 19,
     "metadata": {},
     "output_type": "execute_result"
    }
   ],
   "source": [
    "# Changing names of all columns into lowercase\n",
    "\n",
    "df.columns = df.columns.str.lower()               # Making names Lowercase\n",
    "# df.columns = df.columns.str.replace(\" \", \"_\")     # Replacing space \" \", with underscore \"_\"\n",
    "df.head(10)"
   ]
  },
  {
   "cell_type": "code",
   "execution_count": null,
   "id": "23e13621-87c0-4778-8617-238519bf9218",
   "metadata": {},
   "outputs": [],
   "source": []
  },
  {
   "cell_type": "markdown",
   "id": "06ab5ede-4d31-4703-aad1-4eff547dd106",
   "metadata": {},
   "source": [
    "## **We are going to Categorize `vote_average` Column**\n",
    "\n",
    "**Catgories Will be**\n",
    "\n",
    "- `popular`\n",
    "- `average`\n",
    "- `below_average`\n",
    "- `not_popular`"
   ]
  },
  {
   "cell_type": "code",
   "execution_count": 24,
   "id": "2a2b78f9-b4e8-4bee-9044-5fb9785a996e",
   "metadata": {},
   "outputs": [
    {
     "data": {
      "text/plain": [
       "count    9827.000000\n",
       "mean        6.439534\n",
       "std         1.129759\n",
       "min         0.000000\n",
       "25%         5.900000\n",
       "50%         6.500000\n",
       "75%         7.100000\n",
       "max        10.000000\n",
       "Name: vote_average, dtype: float64"
      ]
     },
     "execution_count": 24,
     "metadata": {},
     "output_type": "execute_result"
    }
   ],
   "source": [
    "df[\"vote_average\"].describe()"
   ]
  },
  {
   "cell_type": "code",
   "execution_count": 28,
   "id": "094786ff-4c4f-42e1-a246-91ec1f915db4",
   "metadata": {},
   "outputs": [],
   "source": [
    "def categorize_col(df, col, label):\n",
    "\n",
    "    categories = [df[col].describe()[\"min\"],\n",
    "                  df[col].describe()[\"25%\"],\n",
    "                  df[col].describe()[\"50%\"],\n",
    "                  df[col].describe()[\"75%\"],\n",
    "                  df[col].describe()[\"max\"]]\n",
    "\n",
    "    df[col] = pd.cut(df[col], categories, labels = label, duplicates = \"drop\")\n",
    "\n",
    "    return df.head()"
   ]
  },
  {
   "cell_type": "code",
   "execution_count": 29,
   "id": "30ef515a-531d-406a-a78c-d9433b1383f2",
   "metadata": {},
   "outputs": [],
   "source": [
    "labels = [\"not_popular\", \"below_average\", \"average\", \"popular\"]"
   ]
  },
  {
   "cell_type": "code",
   "execution_count": 30,
   "id": "f303c4ab-8f7e-45dd-8e74-0ef572d5bc48",
   "metadata": {},
   "outputs": [
    {
     "data": {
      "text/html": [
       "<div>\n",
       "<style scoped>\n",
       "    .dataframe tbody tr th:only-of-type {\n",
       "        vertical-align: middle;\n",
       "    }\n",
       "\n",
       "    .dataframe tbody tr th {\n",
       "        vertical-align: top;\n",
       "    }\n",
       "\n",
       "    .dataframe thead th {\n",
       "        text-align: right;\n",
       "    }\n",
       "</style>\n",
       "<table border=\"1\" class=\"dataframe\">\n",
       "  <thead>\n",
       "    <tr style=\"text-align: right;\">\n",
       "      <th></th>\n",
       "      <th>release_date</th>\n",
       "      <th>title</th>\n",
       "      <th>popularity</th>\n",
       "      <th>vote_count</th>\n",
       "      <th>vote_average</th>\n",
       "      <th>genre</th>\n",
       "      <th>release_year</th>\n",
       "    </tr>\n",
       "  </thead>\n",
       "  <tbody>\n",
       "    <tr>\n",
       "      <th>0</th>\n",
       "      <td>2021-12-15</td>\n",
       "      <td>Spider-Man: No Way Home</td>\n",
       "      <td>5083.954</td>\n",
       "      <td>8940</td>\n",
       "      <td>popular</td>\n",
       "      <td>Action, Adventure, Science Fiction</td>\n",
       "      <td>2021</td>\n",
       "    </tr>\n",
       "    <tr>\n",
       "      <th>1</th>\n",
       "      <td>2022-03-01</td>\n",
       "      <td>The Batman</td>\n",
       "      <td>3827.658</td>\n",
       "      <td>1151</td>\n",
       "      <td>popular</td>\n",
       "      <td>Crime, Mystery, Thriller</td>\n",
       "      <td>2022</td>\n",
       "    </tr>\n",
       "    <tr>\n",
       "      <th>2</th>\n",
       "      <td>2022-02-25</td>\n",
       "      <td>No Exit</td>\n",
       "      <td>2618.087</td>\n",
       "      <td>122</td>\n",
       "      <td>below_average</td>\n",
       "      <td>Thriller</td>\n",
       "      <td>2022</td>\n",
       "    </tr>\n",
       "    <tr>\n",
       "      <th>3</th>\n",
       "      <td>2021-11-24</td>\n",
       "      <td>Encanto</td>\n",
       "      <td>2402.201</td>\n",
       "      <td>5076</td>\n",
       "      <td>popular</td>\n",
       "      <td>Animation, Comedy, Family, Fantasy</td>\n",
       "      <td>2021</td>\n",
       "    </tr>\n",
       "    <tr>\n",
       "      <th>4</th>\n",
       "      <td>2021-12-22</td>\n",
       "      <td>The King's Man</td>\n",
       "      <td>1895.511</td>\n",
       "      <td>1793</td>\n",
       "      <td>average</td>\n",
       "      <td>Action, Adventure, Thriller, War</td>\n",
       "      <td>2021</td>\n",
       "    </tr>\n",
       "  </tbody>\n",
       "</table>\n",
       "</div>"
      ],
      "text/plain": [
       "  release_date                    title  popularity  vote_count  \\\n",
       "0   2021-12-15  Spider-Man: No Way Home    5083.954        8940   \n",
       "1   2022-03-01               The Batman    3827.658        1151   \n",
       "2   2022-02-25                  No Exit    2618.087         122   \n",
       "3   2021-11-24                  Encanto    2402.201        5076   \n",
       "4   2021-12-22           The King's Man    1895.511        1793   \n",
       "\n",
       "    vote_average                               genre  release_year  \n",
       "0        popular  Action, Adventure, Science Fiction          2021  \n",
       "1        popular            Crime, Mystery, Thriller          2022  \n",
       "2  below_average                            Thriller          2022  \n",
       "3        popular  Animation, Comedy, Family, Fantasy          2021  \n",
       "4        average    Action, Adventure, Thriller, War          2021  "
      ]
     },
     "execution_count": 30,
     "metadata": {},
     "output_type": "execute_result"
    }
   ],
   "source": [
    "# using the User Defined Function to categorize the vote_avg column\n",
    "\n",
    "categorize_col(df, \"vote_average\", labels)"
   ]
  },
  {
   "cell_type": "code",
   "execution_count": 33,
   "id": "4f5b123e-aa7a-46b0-a655-9ce8a8973a4f",
   "metadata": {},
   "outputs": [
    {
     "data": {
      "text/plain": [
       "vote_average\n",
       "not_popular      2467\n",
       "popular          2450\n",
       "average          2412\n",
       "below_average    2398\n",
       "Name: count, dtype: int64"
      ]
     },
     "execution_count": 33,
     "metadata": {},
     "output_type": "execute_result"
    }
   ],
   "source": [
    "df[\"vote_average\"].value_counts()"
   ]
  },
  {
   "cell_type": "code",
   "execution_count": 34,
   "id": "ad469fd6-517b-41b8-9390-fc146e92d830",
   "metadata": {},
   "outputs": [
    {
     "data": {
      "text/plain": [
       "release_date      0\n",
       "title             0\n",
       "popularity        0\n",
       "vote_count        0\n",
       "vote_average    100\n",
       "genre             0\n",
       "release_year      0\n",
       "dtype: int64"
      ]
     },
     "execution_count": 34,
     "metadata": {},
     "output_type": "execute_result"
    }
   ],
   "source": [
    "df.isnull().sum()"
   ]
  },
  {
   "cell_type": "code",
   "execution_count": 36,
   "id": "9fa3b75a-addf-4612-83c9-ca8a4a61b17c",
   "metadata": {},
   "outputs": [
    {
     "data": {
      "text/plain": [
       "release_date    0\n",
       "title           0\n",
       "popularity      0\n",
       "vote_count      0\n",
       "vote_average    0\n",
       "genre           0\n",
       "release_year    0\n",
       "dtype: int64"
      ]
     },
     "execution_count": 36,
     "metadata": {},
     "output_type": "execute_result"
    }
   ],
   "source": [
    "# we have around 100 null vlues on vote average\n",
    "\n",
    "df = df.dropna()\n",
    "df.isnull().sum()"
   ]
  },
  {
   "cell_type": "code",
   "execution_count": 41,
   "id": "73e6bed9-2f63-49fd-b996-e92078ba10f0",
   "metadata": {},
   "outputs": [
    {
     "data": {
      "text/plain": [
       "(9727, 7)"
      ]
     },
     "execution_count": 41,
     "metadata": {},
     "output_type": "execute_result"
    }
   ],
   "source": [
    "df.shape"
   ]
  },
  {
   "cell_type": "markdown",
   "id": "e62e5f90-83cb-4686-ae7f-a5833674a191",
   "metadata": {},
   "source": [
    "## **Splitting Genre into list and then Exploding Dataframe to get each separate Genre for each movie**"
   ]
  },
  {
   "cell_type": "code",
   "execution_count": 42,
   "id": "78462c79-8008-4df4-8f56-a47d8493e35b",
   "metadata": {
    "scrolled": true
   },
   "outputs": [
    {
     "name": "stderr",
     "output_type": "stream",
     "text": [
      "C:\\Users\\lenovo\\AppData\\Local\\Temp\\ipykernel_6484\\348119755.py:3: SettingWithCopyWarning: \n",
      "A value is trying to be set on a copy of a slice from a DataFrame.\n",
      "Try using .loc[row_indexer,col_indexer] = value instead\n",
      "\n",
      "See the caveats in the documentation: https://pandas.pydata.org/pandas-docs/stable/user_guide/indexing.html#returning-a-view-versus-a-copy\n",
      "  df[\"genre\"] = df[\"genre\"].str.split(\", \")\n"
     ]
    },
    {
     "data": {
      "text/html": [
       "<div>\n",
       "<style scoped>\n",
       "    .dataframe tbody tr th:only-of-type {\n",
       "        vertical-align: middle;\n",
       "    }\n",
       "\n",
       "    .dataframe tbody tr th {\n",
       "        vertical-align: top;\n",
       "    }\n",
       "\n",
       "    .dataframe thead th {\n",
       "        text-align: right;\n",
       "    }\n",
       "</style>\n",
       "<table border=\"1\" class=\"dataframe\">\n",
       "  <thead>\n",
       "    <tr style=\"text-align: right;\">\n",
       "      <th></th>\n",
       "      <th>release_date</th>\n",
       "      <th>title</th>\n",
       "      <th>popularity</th>\n",
       "      <th>vote_count</th>\n",
       "      <th>vote_average</th>\n",
       "      <th>genre</th>\n",
       "      <th>release_year</th>\n",
       "    </tr>\n",
       "  </thead>\n",
       "  <tbody>\n",
       "    <tr>\n",
       "      <th>0</th>\n",
       "      <td>2021-12-15</td>\n",
       "      <td>Spider-Man: No Way Home</td>\n",
       "      <td>5083.954</td>\n",
       "      <td>8940</td>\n",
       "      <td>popular</td>\n",
       "      <td>Action</td>\n",
       "      <td>2021</td>\n",
       "    </tr>\n",
       "    <tr>\n",
       "      <th>1</th>\n",
       "      <td>2021-12-15</td>\n",
       "      <td>Spider-Man: No Way Home</td>\n",
       "      <td>5083.954</td>\n",
       "      <td>8940</td>\n",
       "      <td>popular</td>\n",
       "      <td>Adventure</td>\n",
       "      <td>2021</td>\n",
       "    </tr>\n",
       "    <tr>\n",
       "      <th>2</th>\n",
       "      <td>2021-12-15</td>\n",
       "      <td>Spider-Man: No Way Home</td>\n",
       "      <td>5083.954</td>\n",
       "      <td>8940</td>\n",
       "      <td>popular</td>\n",
       "      <td>Science Fiction</td>\n",
       "      <td>2021</td>\n",
       "    </tr>\n",
       "    <tr>\n",
       "      <th>3</th>\n",
       "      <td>2022-03-01</td>\n",
       "      <td>The Batman</td>\n",
       "      <td>3827.658</td>\n",
       "      <td>1151</td>\n",
       "      <td>popular</td>\n",
       "      <td>Crime</td>\n",
       "      <td>2022</td>\n",
       "    </tr>\n",
       "    <tr>\n",
       "      <th>4</th>\n",
       "      <td>2022-03-01</td>\n",
       "      <td>The Batman</td>\n",
       "      <td>3827.658</td>\n",
       "      <td>1151</td>\n",
       "      <td>popular</td>\n",
       "      <td>Mystery</td>\n",
       "      <td>2022</td>\n",
       "    </tr>\n",
       "  </tbody>\n",
       "</table>\n",
       "</div>"
      ],
      "text/plain": [
       "  release_date                    title  popularity  vote_count vote_average  \\\n",
       "0   2021-12-15  Spider-Man: No Way Home    5083.954        8940      popular   \n",
       "1   2021-12-15  Spider-Man: No Way Home    5083.954        8940      popular   \n",
       "2   2021-12-15  Spider-Man: No Way Home    5083.954        8940      popular   \n",
       "3   2022-03-01               The Batman    3827.658        1151      popular   \n",
       "4   2022-03-01               The Batman    3827.658        1151      popular   \n",
       "\n",
       "             genre  release_year  \n",
       "0           Action          2021  \n",
       "1        Adventure          2021  \n",
       "2  Science Fiction          2021  \n",
       "3            Crime          2022  \n",
       "4          Mystery          2022  "
      ]
     },
     "execution_count": 42,
     "metadata": {},
     "output_type": "execute_result"
    }
   ],
   "source": [
    "# splitting the Genre in different parts for each movie\n",
    "\n",
    "df[\"genre\"] = df[\"genre\"].str.split(\", \")\n",
    "\n",
    "df = df.explode(\"genre\").reset_index(drop = True)\n",
    "\n",
    "df.head()"
   ]
  },
  {
   "cell_type": "code",
   "execution_count": 45,
   "id": "5bec3ffb-39ec-4d34-9039-769fb74df5ef",
   "metadata": {},
   "outputs": [
    {
     "name": "stdout",
     "output_type": "stream",
     "text": [
      "Now we have dataframe of over 25000 rows :  (25552, 7)\n"
     ]
    }
   ],
   "source": [
    "df.shape\n",
    "\n",
    "print(\"Now we have dataframe of over 25000 rows : \", df.shape)"
   ]
  },
  {
   "cell_type": "code",
   "execution_count": 43,
   "id": "af8e9a54-0dec-4ee5-beab-7878a2214544",
   "metadata": {},
   "outputs": [],
   "source": [
    "# Now we have different genre for same movies so now we can find out movies based on genre ...."
   ]
  },
  {
   "cell_type": "markdown",
   "id": "5f41a25d-d760-4c19-90fb-b0060945095d",
   "metadata": {},
   "source": [
    "## **Casting column into Category**"
   ]
  },
  {
   "cell_type": "code",
   "execution_count": 46,
   "id": "219c7962-cfd1-4430-8fb2-47ea4de9ec7d",
   "metadata": {},
   "outputs": [
    {
     "data": {
      "text/plain": [
       "CategoricalDtype(categories=['Action', 'Adventure', 'Animation', 'Comedy', 'Crime',\n",
       "                  'Documentary', 'Drama', 'Family', 'Fantasy', 'History',\n",
       "                  'Horror', 'Music', 'Mystery', 'Romance', 'Science Fiction',\n",
       "                  'TV Movie', 'Thriller', 'War', 'Western'],\n",
       ", ordered=False, categories_dtype=object)"
      ]
     },
     "execution_count": 46,
     "metadata": {},
     "output_type": "execute_result"
    }
   ],
   "source": [
    "df[\"genre\"] = df[\"genre\"].astype(\"category\")\n",
    "\n",
    "df[\"genre\"].dtypes"
   ]
  },
  {
   "cell_type": "code",
   "execution_count": 48,
   "id": "6054f966-a6fe-4415-b4df-5e1bc8c4aeb2",
   "metadata": {},
   "outputs": [
    {
     "data": {
      "text/plain": [
       "genre\n",
       "Drama              3715\n",
       "Comedy             3006\n",
       "Action             2652\n",
       "Thriller           2473\n",
       "Adventure          1829\n",
       "Romance            1461\n",
       "Horror             1457\n",
       "Animation          1426\n",
       "Family             1405\n",
       "Fantasy            1295\n",
       "Science Fiction    1255\n",
       "Crime              1235\n",
       "Mystery             765\n",
       "History             426\n",
       "War                 307\n",
       "Music               291\n",
       "TV Movie            214\n",
       "Documentary         203\n",
       "Western             137\n",
       "Name: count, dtype: int64"
      ]
     },
     "execution_count": 48,
     "metadata": {},
     "output_type": "execute_result"
    }
   ],
   "source": [
    "df[\"genre\"].value_counts()"
   ]
  },
  {
   "cell_type": "code",
   "execution_count": 49,
   "id": "fd3f4d8c-a47e-4341-ac81-84209a64ef11",
   "metadata": {},
   "outputs": [
    {
     "data": {
      "text/plain": [
       "release_date    5846\n",
       "title           9415\n",
       "popularity      8088\n",
       "vote_count      3265\n",
       "vote_average       4\n",
       "genre             19\n",
       "release_year     100\n",
       "dtype: int64"
      ]
     },
     "execution_count": 49,
     "metadata": {},
     "output_type": "execute_result"
    }
   ],
   "source": [
    "df.nunique()"
   ]
  },
  {
   "cell_type": "code",
   "execution_count": 50,
   "id": "b644e40e-bc5b-4ea1-87c3-4939d1087dff",
   "metadata": {},
   "outputs": [
    {
     "data": {
      "text/html": [
       "<div>\n",
       "<style scoped>\n",
       "    .dataframe tbody tr th:only-of-type {\n",
       "        vertical-align: middle;\n",
       "    }\n",
       "\n",
       "    .dataframe tbody tr th {\n",
       "        vertical-align: top;\n",
       "    }\n",
       "\n",
       "    .dataframe thead th {\n",
       "        text-align: right;\n",
       "    }\n",
       "</style>\n",
       "<table border=\"1\" class=\"dataframe\">\n",
       "  <thead>\n",
       "    <tr style=\"text-align: right;\">\n",
       "      <th></th>\n",
       "      <th>release_date</th>\n",
       "      <th>title</th>\n",
       "      <th>popularity</th>\n",
       "      <th>vote_count</th>\n",
       "      <th>vote_average</th>\n",
       "      <th>genre</th>\n",
       "      <th>release_year</th>\n",
       "    </tr>\n",
       "  </thead>\n",
       "  <tbody>\n",
       "    <tr>\n",
       "      <th>0</th>\n",
       "      <td>2021-12-15</td>\n",
       "      <td>Spider-Man: No Way Home</td>\n",
       "      <td>5083.954</td>\n",
       "      <td>8940</td>\n",
       "      <td>popular</td>\n",
       "      <td>Action</td>\n",
       "      <td>2021</td>\n",
       "    </tr>\n",
       "    <tr>\n",
       "      <th>1</th>\n",
       "      <td>2021-12-15</td>\n",
       "      <td>Spider-Man: No Way Home</td>\n",
       "      <td>5083.954</td>\n",
       "      <td>8940</td>\n",
       "      <td>popular</td>\n",
       "      <td>Adventure</td>\n",
       "      <td>2021</td>\n",
       "    </tr>\n",
       "    <tr>\n",
       "      <th>2</th>\n",
       "      <td>2021-12-15</td>\n",
       "      <td>Spider-Man: No Way Home</td>\n",
       "      <td>5083.954</td>\n",
       "      <td>8940</td>\n",
       "      <td>popular</td>\n",
       "      <td>Science Fiction</td>\n",
       "      <td>2021</td>\n",
       "    </tr>\n",
       "    <tr>\n",
       "      <th>3</th>\n",
       "      <td>2022-03-01</td>\n",
       "      <td>The Batman</td>\n",
       "      <td>3827.658</td>\n",
       "      <td>1151</td>\n",
       "      <td>popular</td>\n",
       "      <td>Crime</td>\n",
       "      <td>2022</td>\n",
       "    </tr>\n",
       "    <tr>\n",
       "      <th>4</th>\n",
       "      <td>2022-03-01</td>\n",
       "      <td>The Batman</td>\n",
       "      <td>3827.658</td>\n",
       "      <td>1151</td>\n",
       "      <td>popular</td>\n",
       "      <td>Mystery</td>\n",
       "      <td>2022</td>\n",
       "    </tr>\n",
       "    <tr>\n",
       "      <th>5</th>\n",
       "      <td>2022-03-01</td>\n",
       "      <td>The Batman</td>\n",
       "      <td>3827.658</td>\n",
       "      <td>1151</td>\n",
       "      <td>popular</td>\n",
       "      <td>Thriller</td>\n",
       "      <td>2022</td>\n",
       "    </tr>\n",
       "    <tr>\n",
       "      <th>6</th>\n",
       "      <td>2022-02-25</td>\n",
       "      <td>No Exit</td>\n",
       "      <td>2618.087</td>\n",
       "      <td>122</td>\n",
       "      <td>below_average</td>\n",
       "      <td>Thriller</td>\n",
       "      <td>2022</td>\n",
       "    </tr>\n",
       "    <tr>\n",
       "      <th>7</th>\n",
       "      <td>2021-11-24</td>\n",
       "      <td>Encanto</td>\n",
       "      <td>2402.201</td>\n",
       "      <td>5076</td>\n",
       "      <td>popular</td>\n",
       "      <td>Animation</td>\n",
       "      <td>2021</td>\n",
       "    </tr>\n",
       "    <tr>\n",
       "      <th>8</th>\n",
       "      <td>2021-11-24</td>\n",
       "      <td>Encanto</td>\n",
       "      <td>2402.201</td>\n",
       "      <td>5076</td>\n",
       "      <td>popular</td>\n",
       "      <td>Comedy</td>\n",
       "      <td>2021</td>\n",
       "    </tr>\n",
       "    <tr>\n",
       "      <th>9</th>\n",
       "      <td>2021-11-24</td>\n",
       "      <td>Encanto</td>\n",
       "      <td>2402.201</td>\n",
       "      <td>5076</td>\n",
       "      <td>popular</td>\n",
       "      <td>Family</td>\n",
       "      <td>2021</td>\n",
       "    </tr>\n",
       "  </tbody>\n",
       "</table>\n",
       "</div>"
      ],
      "text/plain": [
       "  release_date                    title  popularity  vote_count  \\\n",
       "0   2021-12-15  Spider-Man: No Way Home    5083.954        8940   \n",
       "1   2021-12-15  Spider-Man: No Way Home    5083.954        8940   \n",
       "2   2021-12-15  Spider-Man: No Way Home    5083.954        8940   \n",
       "3   2022-03-01               The Batman    3827.658        1151   \n",
       "4   2022-03-01               The Batman    3827.658        1151   \n",
       "5   2022-03-01               The Batman    3827.658        1151   \n",
       "6   2022-02-25                  No Exit    2618.087         122   \n",
       "7   2021-11-24                  Encanto    2402.201        5076   \n",
       "8   2021-11-24                  Encanto    2402.201        5076   \n",
       "9   2021-11-24                  Encanto    2402.201        5076   \n",
       "\n",
       "    vote_average            genre  release_year  \n",
       "0        popular           Action          2021  \n",
       "1        popular        Adventure          2021  \n",
       "2        popular  Science Fiction          2021  \n",
       "3        popular            Crime          2022  \n",
       "4        popular          Mystery          2022  \n",
       "5        popular         Thriller          2022  \n",
       "6  below_average         Thriller          2022  \n",
       "7        popular        Animation          2021  \n",
       "8        popular           Comedy          2021  \n",
       "9        popular           Family          2021  "
      ]
     },
     "execution_count": 50,
     "metadata": {},
     "output_type": "execute_result"
    }
   ],
   "source": [
    "df.head(10)"
   ]
  },
  {
   "cell_type": "code",
   "execution_count": null,
   "id": "fcf1812a-f180-49ec-8e75-463527f1c9ec",
   "metadata": {},
   "outputs": [],
   "source": []
  },
  {
   "cell_type": "markdown",
   "id": "26a2e51e-3f05-4807-8906-39cb751be2e3",
   "metadata": {},
   "source": [
    "# **Data Visualization**"
   ]
  },
  {
   "cell_type": "code",
   "execution_count": 64,
   "id": "3e1cb4f0-a7fe-4b41-a575-561a211d083b",
   "metadata": {},
   "outputs": [],
   "source": [
    "# setting new style\n",
    "\n",
    "sns.set_style(\"darkgrid\")"
   ]
  },
  {
   "cell_type": "markdown",
   "id": "c4693da1-fa5f-473c-b119-a555201e9dc2",
   "metadata": {},
   "source": [
    "## 1. What is the Most Frequent Genre movie Released on Netflix?"
   ]
  },
  {
   "cell_type": "code",
   "execution_count": 65,
   "id": "e1005685-8411-4d11-a9ea-c01e11d9a2c4",
   "metadata": {},
   "outputs": [
    {
     "data": {
      "text/plain": [
       "count     25552\n",
       "unique       19\n",
       "top       Drama\n",
       "freq       3715\n",
       "Name: genre, dtype: object"
      ]
     },
     "execution_count": 65,
     "metadata": {},
     "output_type": "execute_result"
    }
   ],
   "source": [
    "df[\"genre\"].describe()"
   ]
  },
  {
   "cell_type": "code",
   "execution_count": 66,
   "id": "6ad4fc7f-1b39-4d76-964f-53327e5ca47a",
   "metadata": {},
   "outputs": [
    {
     "data": {
      "image/png": "[encoded data removed]",
      "text/plain": [
       "<Figure size 511.111x500 with 1 Axes>"
      ]
     },
     "metadata": {},
     "output_type": "display_data"
    }
   ],
   "source": [
    "# We are going to build the Catplot\n",
    "\n",
    "sns.catplot(y = \"genre\", data = df, kind = \"count\",\n",
    "            order = df[\"genre\"].value_counts().index,\n",
    "            color = \"red\")\n",
    "plt.title(\"Genre Count Distribution\")\n",
    "plt.show()"
   ]
  },
  {
   "cell_type": "code",
   "execution_count": null,
   "id": "b9a7916f-694c-4d02-97e5-ddb69bea39d0",
   "metadata": {},
   "outputs": [],
   "source": []
  },
  {
   "cell_type": "markdown",
   "id": "bb70a908-513c-4a3e-bcb1-2b3343557156",
   "metadata": {},
   "source": [
    "## 2. What Genre has Highest votes?\n"
   ]
  },
  {
   "cell_type": "code",
   "execution_count": 67,
   "id": "ee98a9da-6d97-4876-9b08-a4a5a87e5255",
   "metadata": {},
   "outputs": [
    {
     "data": {
      "text/html": [
       "<div>\n",
       "<style scoped>\n",
       "    .dataframe tbody tr th:only-of-type {\n",
       "        vertical-align: middle;\n",
       "    }\n",
       "\n",
       "    .dataframe tbody tr th {\n",
       "        vertical-align: top;\n",
       "    }\n",
       "\n",
       "    .dataframe thead th {\n",
       "        text-align: right;\n",
       "    }\n",
       "</style>\n",
       "<table border=\"1\" class=\"dataframe\">\n",
       "  <thead>\n",
       "    <tr style=\"text-align: right;\">\n",
       "      <th></th>\n",
       "      <th>release_date</th>\n",
       "      <th>title</th>\n",
       "      <th>popularity</th>\n",
       "      <th>vote_count</th>\n",
       "      <th>vote_average</th>\n",
       "      <th>genre</th>\n",
       "      <th>release_year</th>\n",
       "    </tr>\n",
       "  </thead>\n",
       "  <tbody>\n",
       "    <tr>\n",
       "      <th>0</th>\n",
       "      <td>2021-12-15</td>\n",
       "      <td>Spider-Man: No Way Home</td>\n",
       "      <td>5083.954</td>\n",
       "      <td>8940</td>\n",
       "      <td>popular</td>\n",
       "      <td>Action</td>\n",
       "      <td>2021</td>\n",
       "    </tr>\n",
       "    <tr>\n",
       "      <th>1</th>\n",
       "      <td>2021-12-15</td>\n",
       "      <td>Spider-Man: No Way Home</td>\n",
       "      <td>5083.954</td>\n",
       "      <td>8940</td>\n",
       "      <td>popular</td>\n",
       "      <td>Adventure</td>\n",
       "      <td>2021</td>\n",
       "    </tr>\n",
       "    <tr>\n",
       "      <th>2</th>\n",
       "      <td>2021-12-15</td>\n",
       "      <td>Spider-Man: No Way Home</td>\n",
       "      <td>5083.954</td>\n",
       "      <td>8940</td>\n",
       "      <td>popular</td>\n",
       "      <td>Science Fiction</td>\n",
       "      <td>2021</td>\n",
       "    </tr>\n",
       "    <tr>\n",
       "      <th>3</th>\n",
       "      <td>2022-03-01</td>\n",
       "      <td>The Batman</td>\n",
       "      <td>3827.658</td>\n",
       "      <td>1151</td>\n",
       "      <td>popular</td>\n",
       "      <td>Crime</td>\n",
       "      <td>2022</td>\n",
       "    </tr>\n",
       "    <tr>\n",
       "      <th>4</th>\n",
       "      <td>2022-03-01</td>\n",
       "      <td>The Batman</td>\n",
       "      <td>3827.658</td>\n",
       "      <td>1151</td>\n",
       "      <td>popular</td>\n",
       "      <td>Mystery</td>\n",
       "      <td>2022</td>\n",
       "    </tr>\n",
       "  </tbody>\n",
       "</table>\n",
       "</div>"
      ],
      "text/plain": [
       "  release_date                    title  popularity  vote_count vote_average  \\\n",
       "0   2021-12-15  Spider-Man: No Way Home    5083.954        8940      popular   \n",
       "1   2021-12-15  Spider-Man: No Way Home    5083.954        8940      popular   \n",
       "2   2021-12-15  Spider-Man: No Way Home    5083.954        8940      popular   \n",
       "3   2022-03-01               The Batman    3827.658        1151      popular   \n",
       "4   2022-03-01               The Batman    3827.658        1151      popular   \n",
       "\n",
       "             genre  release_year  \n",
       "0           Action          2021  \n",
       "1        Adventure          2021  \n",
       "2  Science Fiction          2021  \n",
       "3            Crime          2022  \n",
       "4          Mystery          2022  "
      ]
     },
     "execution_count": 67,
     "metadata": {},
     "output_type": "execute_result"
    }
   ],
   "source": [
    "df.head()"
   ]
  },
  {
   "cell_type": "code",
   "execution_count": 92,
   "id": "587aba08-7638-428c-8ade-e50f96ee5e09",
   "metadata": {},
   "outputs": [
    {
     "name": "stdout",
     "output_type": "stream",
     "text": [
      "Genre that Has Highest Votes are:  Drama\n"
     ]
    },
    {
     "name": "stderr",
     "output_type": "stream",
     "text": [
      "C:\\Users\\lenovo\\AppData\\Local\\Temp\\ipykernel_6484\\2696275461.py:3: FutureWarning: The default of observed=False is deprecated and will be changed to True in a future version of pandas. Pass observed=False to retain current behavior or observed=True to adopt the future default and silence this warning.\n",
      "  genre_votes = df.groupby('genre')['vote_count']\n"
     ]
    }
   ],
   "source": [
    "# We are going to build the Catplot\n",
    "\n",
    "genre_votes = df.groupby('genre')['vote_count']\n",
    "highest_votes_genre = genre_votes.sum().idxmax()\n",
    "print(\"Genre that Has Highest Votes are: \", highest_votes_genre)"
   ]
  },
  {
   "cell_type": "markdown",
   "id": "c6d00404-f7f1-4df2-9f24-ce2fe16481da",
   "metadata": {},
   "source": [
    "## 3. What Movie has got the highest Popularity? and what's its Genre?"
   ]
  },
  {
   "cell_type": "code",
   "execution_count": 80,
   "id": "aa23ac9b-5936-4116-a1a6-596af5a93c05",
   "metadata": {},
   "outputs": [
    {
     "data": {
      "text/html": [
       "<div>\n",
       "<style scoped>\n",
       "    .dataframe tbody tr th:only-of-type {\n",
       "        vertical-align: middle;\n",
       "    }\n",
       "\n",
       "    .dataframe tbody tr th {\n",
       "        vertical-align: top;\n",
       "    }\n",
       "\n",
       "    .dataframe thead th {\n",
       "        text-align: right;\n",
       "    }\n",
       "</style>\n",
       "<table border=\"1\" class=\"dataframe\">\n",
       "  <thead>\n",
       "    <tr style=\"text-align: right;\">\n",
       "      <th></th>\n",
       "      <th>release_date</th>\n",
       "      <th>title</th>\n",
       "      <th>popularity</th>\n",
       "      <th>vote_count</th>\n",
       "      <th>vote_average</th>\n",
       "      <th>genre</th>\n",
       "      <th>release_year</th>\n",
       "    </tr>\n",
       "  </thead>\n",
       "  <tbody>\n",
       "    <tr>\n",
       "      <th>0</th>\n",
       "      <td>2021-12-15</td>\n",
       "      <td>Spider-Man: No Way Home</td>\n",
       "      <td>5083.954</td>\n",
       "      <td>8940</td>\n",
       "      <td>popular</td>\n",
       "      <td>Action</td>\n",
       "      <td>2021</td>\n",
       "    </tr>\n",
       "    <tr>\n",
       "      <th>1</th>\n",
       "      <td>2021-12-15</td>\n",
       "      <td>Spider-Man: No Way Home</td>\n",
       "      <td>5083.954</td>\n",
       "      <td>8940</td>\n",
       "      <td>popular</td>\n",
       "      <td>Adventure</td>\n",
       "      <td>2021</td>\n",
       "    </tr>\n",
       "    <tr>\n",
       "      <th>2</th>\n",
       "      <td>2021-12-15</td>\n",
       "      <td>Spider-Man: No Way Home</td>\n",
       "      <td>5083.954</td>\n",
       "      <td>8940</td>\n",
       "      <td>popular</td>\n",
       "      <td>Science Fiction</td>\n",
       "      <td>2021</td>\n",
       "    </tr>\n",
       "  </tbody>\n",
       "</table>\n",
       "</div>"
      ],
      "text/plain": [
       "  release_date                    title  popularity  vote_count vote_average  \\\n",
       "0   2021-12-15  Spider-Man: No Way Home    5083.954        8940      popular   \n",
       "1   2021-12-15  Spider-Man: No Way Home    5083.954        8940      popular   \n",
       "2   2021-12-15  Spider-Man: No Way Home    5083.954        8940      popular   \n",
       "\n",
       "             genre  release_year  \n",
       "0           Action          2021  \n",
       "1        Adventure          2021  \n",
       "2  Science Fiction          2021  "
      ]
     },
     "execution_count": 80,
     "metadata": {},
     "output_type": "execute_result"
    }
   ],
   "source": [
    "high_pop = df[df[\"popularity\"] == df[\"popularity\"].max()]\n",
    "high_pop"
   ]
  },
  {
   "cell_type": "code",
   "execution_count": 81,
   "id": "22f5fe8d-3d56-4f9e-bd42-a1009e8d7c92",
   "metadata": {},
   "outputs": [
    {
     "name": "stdout",
     "output_type": "stream",
     "text": [
      "movies :  ['Spider-Man: No Way Home'] \n",
      "Has the Highest Popularity of :  [5083.954] \n",
      "And the Genre it Belongs are :  ['Action', 'Adventure', 'Science Fiction']\n",
      "Categories (19, object): ['Action', 'Adventure', 'Animation', 'Comedy', ..., 'TV Movie', 'Thriller', 'War', 'Western']\n"
     ]
    }
   ],
   "source": [
    "print(\"movies : \", high_pop[\"title\"].unique(),\n",
    "      \"\\nHas the Highest Popularity of : \", high_pop[\"popularity\"].unique(),\n",
    "      \"\\nAnd the Genre it Belongs are : \", high_pop[\"genre\"].unique())"
   ]
  },
  {
   "cell_type": "markdown",
   "id": "aab1662f-1b6b-43d1-ad20-e31522d5812d",
   "metadata": {},
   "source": [
    "## 4. What Movie has got the lowest Popularity? and what's its Genre?"
   ]
  },
  {
   "cell_type": "code",
   "execution_count": 75,
   "id": "4effe8d9-6311-4b77-a4f1-369ed8d264fd",
   "metadata": {},
   "outputs": [
    {
     "data": {
      "text/html": [
       "<div>\n",
       "<style scoped>\n",
       "    .dataframe tbody tr th:only-of-type {\n",
       "        vertical-align: middle;\n",
       "    }\n",
       "\n",
       "    .dataframe tbody tr th {\n",
       "        vertical-align: top;\n",
       "    }\n",
       "\n",
       "    .dataframe thead th {\n",
       "        text-align: right;\n",
       "    }\n",
       "</style>\n",
       "<table border=\"1\" class=\"dataframe\">\n",
       "  <thead>\n",
       "    <tr style=\"text-align: right;\">\n",
       "      <th></th>\n",
       "      <th>release_date</th>\n",
       "      <th>title</th>\n",
       "      <th>popularity</th>\n",
       "      <th>vote_count</th>\n",
       "      <th>vote_average</th>\n",
       "      <th>genre</th>\n",
       "      <th>release_year</th>\n",
       "    </tr>\n",
       "  </thead>\n",
       "  <tbody>\n",
       "    <tr>\n",
       "      <th>25546</th>\n",
       "      <td>2021-03-31</td>\n",
       "      <td>The United States vs. Billie Holiday</td>\n",
       "      <td>13.354</td>\n",
       "      <td>152</td>\n",
       "      <td>average</td>\n",
       "      <td>Music</td>\n",
       "      <td>2021</td>\n",
       "    </tr>\n",
       "    <tr>\n",
       "      <th>25547</th>\n",
       "      <td>2021-03-31</td>\n",
       "      <td>The United States vs. Billie Holiday</td>\n",
       "      <td>13.354</td>\n",
       "      <td>152</td>\n",
       "      <td>average</td>\n",
       "      <td>Drama</td>\n",
       "      <td>2021</td>\n",
       "    </tr>\n",
       "    <tr>\n",
       "      <th>25548</th>\n",
       "      <td>2021-03-31</td>\n",
       "      <td>The United States vs. Billie Holiday</td>\n",
       "      <td>13.354</td>\n",
       "      <td>152</td>\n",
       "      <td>average</td>\n",
       "      <td>History</td>\n",
       "      <td>2021</td>\n",
       "    </tr>\n",
       "    <tr>\n",
       "      <th>25549</th>\n",
       "      <td>1984-09-23</td>\n",
       "      <td>Threads</td>\n",
       "      <td>13.354</td>\n",
       "      <td>186</td>\n",
       "      <td>popular</td>\n",
       "      <td>War</td>\n",
       "      <td>1984</td>\n",
       "    </tr>\n",
       "    <tr>\n",
       "      <th>25550</th>\n",
       "      <td>1984-09-23</td>\n",
       "      <td>Threads</td>\n",
       "      <td>13.354</td>\n",
       "      <td>186</td>\n",
       "      <td>popular</td>\n",
       "      <td>Drama</td>\n",
       "      <td>1984</td>\n",
       "    </tr>\n",
       "    <tr>\n",
       "      <th>25551</th>\n",
       "      <td>1984-09-23</td>\n",
       "      <td>Threads</td>\n",
       "      <td>13.354</td>\n",
       "      <td>186</td>\n",
       "      <td>popular</td>\n",
       "      <td>Science Fiction</td>\n",
       "      <td>1984</td>\n",
       "    </tr>\n",
       "  </tbody>\n",
       "</table>\n",
       "</div>"
      ],
      "text/plain": [
       "      release_date                                 title  popularity  \\\n",
       "25546   2021-03-31  The United States vs. Billie Holiday      13.354   \n",
       "25547   2021-03-31  The United States vs. Billie Holiday      13.354   \n",
       "25548   2021-03-31  The United States vs. Billie Holiday      13.354   \n",
       "25549   1984-09-23                               Threads      13.354   \n",
       "25550   1984-09-23                               Threads      13.354   \n",
       "25551   1984-09-23                               Threads      13.354   \n",
       "\n",
       "       vote_count vote_average            genre  release_year  \n",
       "25546         152      average            Music          2021  \n",
       "25547         152      average            Drama          2021  \n",
       "25548         152      average          History          2021  \n",
       "25549         186      popular              War          1984  \n",
       "25550         186      popular            Drama          1984  \n",
       "25551         186      popular  Science Fiction          1984  "
      ]
     },
     "execution_count": 75,
     "metadata": {},
     "output_type": "execute_result"
    }
   ],
   "source": [
    "lowest_pop = df[df[\"popularity\"] == df[\"popularity\"].min()]\n",
    "lowest_pop"
   ]
  },
  {
   "cell_type": "code",
   "execution_count": 78,
   "id": "363182e5-51d7-4d82-a4d8-a6e5b4e9d574",
   "metadata": {},
   "outputs": [
    {
     "name": "stdout",
     "output_type": "stream",
     "text": [
      "movies ['The United States vs. Billie Holiday' 'Threads'] \n",
      "Has the Lowest Popularity of  [13.354] \n",
      "And the Genre it Belongs are  ['Music', 'Drama', 'History', 'War', 'Science Fiction']\n",
      "Categories (19, object): ['Action', 'Adventure', 'Animation', 'Comedy', ..., 'TV Movie', 'Thriller', 'War', 'Western']\n"
     ]
    }
   ],
   "source": [
    "print(\"movies\", lowest_pop[\"title\"].unique(),\n",
    "      \"\\nHas the Lowest Popularity of \", lowest_pop[\"popularity\"].unique(),\n",
    "      \"\\nAnd the Genre it Belongs are \", lowest_pop[\"genre\"].unique())"
   ]
  },
  {
   "cell_type": "code",
   "execution_count": null,
   "id": "21efa487-b31a-4c97-bd5d-f37312e7487b",
   "metadata": {},
   "outputs": [],
   "source": []
  },
  {
   "cell_type": "markdown",
   "id": "fb12b6c1-5077-4cfd-8d95-b697a09ffb09",
   "metadata": {},
   "source": [
    "## 5. Which year has the most filmed movies"
   ]
  },
  {
   "cell_type": "code",
   "execution_count": 96,
   "id": "49646b3c-ab3c-4d38-adeb-de162645c2be",
   "metadata": {},
   "outputs": [
    {
     "data": {
      "text/html": [
       "<div>\n",
       "<style scoped>\n",
       "    .dataframe tbody tr th:only-of-type {\n",
       "        vertical-align: middle;\n",
       "    }\n",
       "\n",
       "    .dataframe tbody tr th {\n",
       "        vertical-align: top;\n",
       "    }\n",
       "\n",
       "    .dataframe thead th {\n",
       "        text-align: right;\n",
       "    }\n",
       "</style>\n",
       "<table border=\"1\" class=\"dataframe\">\n",
       "  <thead>\n",
       "    <tr style=\"text-align: right;\">\n",
       "      <th></th>\n",
       "      <th>release_date</th>\n",
       "      <th>title</th>\n",
       "      <th>popularity</th>\n",
       "      <th>vote_count</th>\n",
       "      <th>vote_average</th>\n",
       "      <th>genre</th>\n",
       "      <th>release_year</th>\n",
       "    </tr>\n",
       "  </thead>\n",
       "  <tbody>\n",
       "    <tr>\n",
       "      <th>0</th>\n",
       "      <td>2021-12-15</td>\n",
       "      <td>Spider-Man: No Way Home</td>\n",
       "      <td>5083.954</td>\n",
       "      <td>8940</td>\n",
       "      <td>popular</td>\n",
       "      <td>Action</td>\n",
       "      <td>2021</td>\n",
       "    </tr>\n",
       "    <tr>\n",
       "      <th>1</th>\n",
       "      <td>2021-12-15</td>\n",
       "      <td>Spider-Man: No Way Home</td>\n",
       "      <td>5083.954</td>\n",
       "      <td>8940</td>\n",
       "      <td>popular</td>\n",
       "      <td>Adventure</td>\n",
       "      <td>2021</td>\n",
       "    </tr>\n",
       "    <tr>\n",
       "      <th>2</th>\n",
       "      <td>2021-12-15</td>\n",
       "      <td>Spider-Man: No Way Home</td>\n",
       "      <td>5083.954</td>\n",
       "      <td>8940</td>\n",
       "      <td>popular</td>\n",
       "      <td>Science Fiction</td>\n",
       "      <td>2021</td>\n",
       "    </tr>\n",
       "    <tr>\n",
       "      <th>3</th>\n",
       "      <td>2022-03-01</td>\n",
       "      <td>The Batman</td>\n",
       "      <td>3827.658</td>\n",
       "      <td>1151</td>\n",
       "      <td>popular</td>\n",
       "      <td>Crime</td>\n",
       "      <td>2022</td>\n",
       "    </tr>\n",
       "    <tr>\n",
       "      <th>4</th>\n",
       "      <td>2022-03-01</td>\n",
       "      <td>The Batman</td>\n",
       "      <td>3827.658</td>\n",
       "      <td>1151</td>\n",
       "      <td>popular</td>\n",
       "      <td>Mystery</td>\n",
       "      <td>2022</td>\n",
       "    </tr>\n",
       "  </tbody>\n",
       "</table>\n",
       "</div>"
      ],
      "text/plain": [
       "  release_date                    title  popularity  vote_count vote_average  \\\n",
       "0   2021-12-15  Spider-Man: No Way Home    5083.954        8940      popular   \n",
       "1   2021-12-15  Spider-Man: No Way Home    5083.954        8940      popular   \n",
       "2   2021-12-15  Spider-Man: No Way Home    5083.954        8940      popular   \n",
       "3   2022-03-01               The Batman    3827.658        1151      popular   \n",
       "4   2022-03-01               The Batman    3827.658        1151      popular   \n",
       "\n",
       "             genre  release_year  \n",
       "0           Action          2021  \n",
       "1        Adventure          2021  \n",
       "2  Science Fiction          2021  \n",
       "3            Crime          2022  \n",
       "4          Mystery          2022  "
      ]
     },
     "execution_count": 96,
     "metadata": {},
     "output_type": "execute_result"
    }
   ],
   "source": [
    "df.head()"
   ]
  },
  {
   "cell_type": "code",
   "execution_count": 100,
   "id": "86cd1105-5ba1-40c5-bc76-6d4700fdd452",
   "metadata": {},
   "outputs": [
    {
     "name": "stderr",
     "output_type": "stream",
     "text": [
      "C:\\Users\\lenovo\\AppData\\Local\\Temp\\ipykernel_6484\\613350640.py:5: SettingWithCopyWarning: \n",
      "A value is trying to be set on a copy of a slice from a DataFrame\n",
      "\n",
      "See the caveats in the documentation: https://pandas.pydata.org/pandas-docs/stable/user_guide/indexing.html#returning-a-view-versus-a-copy\n",
      "  unique.drop_duplicates(inplace = True)\n"
     ]
    },
    {
     "data": {
      "image/png": "[encoded data removed]",
      "text/plain": [
       "<Figure size 640x480 with 1 Axes>"
      ]
     },
     "metadata": {},
     "output_type": "display_data"
    }
   ],
   "source": [
    "# There are multiple rows of same movies so we know that year will be counted multiplt times for each year\n",
    "# So we need to delete the duplicates\n",
    "\n",
    "unique = df[[\"title\",\"release_year\"]]\n",
    "unique.drop_duplicates(inplace = True)\n",
    "\n",
    "\n",
    "unique.hist()\n",
    "plt.title(\"Movies Release Year\")\n",
    "plt.show()"
   ]
  },
  {
   "cell_type": "code",
   "execution_count": null,
   "id": "703452bd-6097-4502-8c99-c85faace123f",
   "metadata": {},
   "outputs": [],
   "source": []
  },
  {
   "cell_type": "markdown",
   "id": "895e0a81-4d10-4631-add3-7f98f685b5e3",
   "metadata": {},
   "source": [
    "###############################################################################################################################"
   ]
  },
  {
   "cell_type": "code",
   "execution_count": null,
   "id": "376d77f9-0418-408c-ab62-cafae58fb1dd",
   "metadata": {},
   "outputs": [],
   "source": []
  },
  {
   "cell_type": "markdown",
   "id": "1ae1e04b-fadb-4364-9e05-71c384e4bfc7",
   "metadata": {},
   "source": [
    "# **Summary of Project:**"
   ]
  },
  {
   "cell_type": "markdown",
   "id": "b042d78c-ce9f-4e5e-80e1-394f0b9f8efb",
   "metadata": {},
   "source": [
    "## Conclusion\n",
    "\n",
    "### Q1: What is the most frequent genre in the dataset?\n",
    "**`Drama`** genre is the most frequent genre in our dataset and has appeared more than **`14%`** of the times among **`19`** other genres.\n",
    "\n",
    "### Q2: What genres have the highest votes?\n",
    "We have **`25.5%`** of our dataset with popular votes (**`6520` rows**). **`Drama`** again gets the highest popularity among fans by having more than **`18.5%`** of movies.\n",
    "\n",
    "### Q3: What movie got the highest popularity? What's its genre?\n",
    "**`Spider-Man: No Way Home`** has the highest popularity rate in our dataset and it has genres of **`Action, Adventure, and Science Fiction`**.\n",
    "\n",
    "### Q4: What movie got the lowest popularity? What's its genre?\n",
    "**`The United States, Thread`** has the lowest popularity rate in our dataset, and it has genres of **`Music, Drama, War, Sci-Fi, and History`**.\n",
    "\n",
    "### Q4: Which year has the most filmed movies?\n",
    "Year **`2020`** has the highest filming rate in our dataset. more than `5000`\n"
   ]
  },
  {
   "cell_type": "code",
   "execution_count": null,
   "id": "403a41b8-3496-42d4-b42e-f52f1f2935cb",
   "metadata": {},
   "outputs": [],
   "source": [
    "# Answering First Question"
   ]
  }
 ],
 "metadata": {
  "kernelspec": {
   "display_name": "Python 3 (ipykernel)",
   "language": "python",
   "name": "python3"
  },
  "language_info": {
   "codemirror_mode": {
    "name": "ipython",
    "version": 3
   },
   "file_extension": ".py",
   "mimetype": "text/x-python",
   "name": "python",
   "nbconvert_exporter": "python",
   "pygments_lexer": "ipython3",
   "version": "3.12.7"
  }
 },
 "nbformat": 4,
 "nbformat_minor": 5
}
